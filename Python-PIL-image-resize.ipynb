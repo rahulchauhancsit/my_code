{
 "cells": [
  {
   "cell_type": "code",
   "execution_count": null,
   "metadata": {},
   "outputs": [],
   "source": [
    "#check python dependencies\n",
    "#import Image from PIL library\n",
    "#import os and sys libraries\n",
    "#import glob"
   ]
  },
  {
   "cell_type": "code",
   "execution_count": null,
   "metadata": {},
   "outputs": [],
   "source": [
    "from PIL import Image\n",
    "import os, sys\n",
    "import glob\n",
    "\n",
    "root_dir = \"E:\\\\Vaaan\\Working\\\\Data_6\\\\AxleData_3D_EPE\\\\bmp\"\n",
    "\n",
    "\n",
    "for filename in glob.iglob(root_dir + '**/*.jpg', recursive=True):\n",
    "    print(filename)\n",
    "    im = Image.open(filename)\n",
    "    imResize = im.resize((512,512), Image.ANTIALIAS)\n",
    "    imResize.save(filename , 'JPEG', quality=90)"
   ]
  },
  {
   "cell_type": "code",
   "execution_count": null,
   "metadata": {},
   "outputs": [],
   "source": []
  }
 ],
 "metadata": {
  "kernelspec": {
   "display_name": "Python 3",
   "language": "python",
   "name": "python3"
  },
  "language_info": {
   "codemirror_mode": {
    "name": "ipython",
    "version": 3
   },
   "file_extension": ".py",
   "mimetype": "text/x-python",
   "name": "python",
   "nbconvert_exporter": "python",
   "pygments_lexer": "ipython3",
   "version": "3.8.5"
  }
 },
 "nbformat": 4,
 "nbformat_minor": 4
}
