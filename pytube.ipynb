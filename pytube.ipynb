{
 "cells": [
  {
   "cell_type": "code",
   "execution_count": 6,
   "metadata": {},
   "outputs": [
    {
     "name": "stdout",
     "output_type": "stream",
     "text": [
      "Enter the URL of the video you want to download: \n",
      ">> https://www.youtube.com/watch?app=desktop&v=yDRuGPJj58g\n",
      "Enter the destination (leave blank for current directory)\n",
      ">> E:\\\\Download\n",
      "Python for Machine Learning/Artificial Intelligence: Input, Output  @ Applied AI Course has been successfully downloaded.\n"
     ]
    }
   ],
   "source": [
    "# importing packages\n",
    "from pytube import YouTube\n",
    "import os\n",
    "  \n",
    "# url input from user\n",
    "yt = YouTube(\n",
    "    str(input(\"Enter the URL of the video you want to download: \\n>> \")))\n",
    "  \n",
    "# extract only audio\n",
    "video = yt.streams.filter(res=\"720p\").first()\n",
    "  \n",
    "# check for destination to save file\n",
    "print(\"Enter the destination (leave blank for current directory)\")\n",
    "destination = str(input(\">> \")) or '.'\n",
    "  \n",
    "# download the file\n",
    "out_file = video.download(output_path=destination)\n",
    "  \n",
    "# save the file\n",
    "base, ext = os.path.splitext(out_file)\n",
    "new_file = base + '.mp4'\n",
    "os.rename(out_file, new_file)\n",
    "  \n",
    "# result of success\n",
    "print(yt.title + \" has been successfully downloaded.\")"
   ]
  },
  {
   "cell_type": "code",
   "execution_count": null,
   "metadata": {},
   "outputs": [],
   "source": []
  }
 ],
 "metadata": {
  "kernelspec": {
   "display_name": "Python 3",
   "language": "python",
   "name": "python3"
  }
 },
 "nbformat": 4,
 "nbformat_minor": 4
}
