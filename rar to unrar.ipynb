{
 "cells": [
  {
   "cell_type": "code",
   "execution_count": 3,
   "metadata": {},
   "outputs": [
    {
     "name": "stdout",
     "output_type": "stream",
     "text": [
      "Requirement already satisfied: patool in c:\\users\\rahul chauhan\\anaconda3\\lib\\site-packages (1.12)\n",
      "patool: Extracting E:\\Download\\AutoLabeling.rar ...\n",
      "patool: running \"C:\\Program Files\\7-Zip\\7z.EXE\" x -oE:\\Download\\auto -- E:\\Download\\AutoLabeling.rar\n",
      "patool: ... E:\\Download\\AutoLabeling.rar extracted to `E:\\Download\\auto'.\n"
     ]
    },
    {
     "data": {
      "text/plain": [
       "'E:\\\\Download\\\\auto'"
      ]
     },
     "execution_count": 3,
     "metadata": {},
     "output_type": "execute_result"
    }
   ],
   "source": [
    "!pip install patool\n",
    "import patoolib\n",
    "patoolib.extract_archive(\"E:\\\\Download\\\\AutoLabeling.rar\", outdir=\"E:\\\\Download\\\\auto\")"
   ]
  },
  {
   "cell_type": "code",
   "execution_count": null,
   "metadata": {},
   "outputs": [],
   "source": []
  }
 ],
 "metadata": {
  "kernelspec": {
   "display_name": "Python 3",
   "language": "python",
   "name": "python3"
  },
  "language_info": {
   "codemirror_mode": {
    "name": "ipython",
    "version": 3
   },
   "file_extension": ".py",
   "mimetype": "text/x-python",
   "name": "python",
   "nbconvert_exporter": "python",
   "pygments_lexer": "ipython3",
   "version": "3.8.5"
  }
 },
 "nbformat": 4,
 "nbformat_minor": 4
}
