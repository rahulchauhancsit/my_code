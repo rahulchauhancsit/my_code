{
 "cells": [
  {
   "cell_type": "code",
   "execution_count": null,
   "metadata": {},
   "outputs": [],
   "source": [
    "import pathlib\n",
    "for path in pathlib.Path(\"E:\\\\01_Vaaan\\\\Working\\\\Data_8\\\\\").iterdir():\n",
    "\n",
    "    if path.is_file():\n",
    "\n",
    "        old_name = path.stem\n",
    "        print(old_name)\n",
    "\n",
    "#original filename\n",
    "\n",
    "\n",
    "        old_extension = path.suffix\n",
    "\n",
    "#original file extension\n",
    "\n",
    "\n",
    "        directory = path.parent\n",
    "\n",
    "#current file location\n",
    "\n",
    "        new_name = \"RC\" + old_name + old_extension\n",
    "        print(new_name)\n",
    "\n",
    "\n",
    "        path.rename(pathlib.Path(directory, new_name))"
   ]
  },
  {
   "cell_type": "code",
   "execution_count": null,
   "metadata": {},
   "outputs": [],
   "source": []
  }
 ],
 "metadata": {
  "kernelspec": {
   "display_name": "Python 3",
   "language": "python",
   "name": "python3"
  },
  "language_info": {
   "codemirror_mode": {
    "name": "ipython",
    "version": 3
   },
   "file_extension": ".py",
   "mimetype": "text/x-python",
   "name": "python",
   "nbconvert_exporter": "python",
   "pygments_lexer": "ipython3",
   "version": "3.8.5"
  }
 },
 "nbformat": 4,
 "nbformat_minor": 4
}
