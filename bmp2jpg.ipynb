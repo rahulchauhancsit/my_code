{
 "cells": [
  {
   "cell_type": "code",
   "execution_count": null,
   "metadata": {},
   "outputs": [],
   "source": [
    "# coding:utf-8\n",
    "import os\n",
    "from PIL import Image\n",
    "\n",
    "# bmp to jpg\n",
    "def bmpToJpg(file_path):\n",
    "    for fileName in os.listdir(file_path):\n",
    "        print(fileName)\n",
    "        newFileName = fileName[0:fileName.find(\"_\")]+\".jpg\"\n",
    "        print(newFileName)\n",
    "        im = Image.open(file_path+\"\\\\\"+fileName)\n",
    "        im.save(file_path+\"\\\\\"+newFileName)\n",
    "\n",
    "\n",
    "# Delete the original bitmap\n",
    "def deleteImages(file_path, imageFormat):\n",
    "    command = \"del \"+file_path+\"\\\\*.\"+imageFormat\n",
    "    os.system(command)\n",
    "\n",
    "\n",
    "def main():\n",
    "    file_path = \"E:\\\\Vaaan\\\\Working\\\\Data_6\\\\AxleData_3D_EPE\\\\bmp\"\n",
    "    bmpToJpg(file_path)\n",
    "    deleteImages(file_path, \"bmp\")\n",
    "\n",
    "\n",
    "if __name__ == '__main__':\n",
    "    main()"
   ]
  },
  {
   "cell_type": "code",
   "execution_count": null,
   "metadata": {},
   "outputs": [],
   "source": []
  }
 ],
 "metadata": {
  "kernelspec": {
   "display_name": "Python 3",
   "language": "python",
   "name": "python3"
  },
  "language_info": {
   "codemirror_mode": {
    "name": "ipython",
    "version": 3
   },
   "file_extension": ".py",
   "mimetype": "text/x-python",
   "name": "python",
   "nbconvert_exporter": "python",
   "pygments_lexer": "ipython3",
   "version": "3.8.5"
  }
 },
 "nbformat": 4,
 "nbformat_minor": 4
}
